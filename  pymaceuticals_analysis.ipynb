{
 "cells": [
  {
   "cell_type": "markdown",
   "metadata": {},
   "source": [
    "## Pymaceuticals Inc.\n",
    "\n",
    "### Drugs vs tumor"
   ]
  },
  {
   "cell_type": "code",
   "execution_count": null,
   "metadata": {},
   "outputs": [],
   "source": [
    "# Dependencies\n",
    "import pandas as pd\n",
    "import scipy.stats as scs\n",
    "import numpy as np\n",
    "import matplotlib.pyplot as plt"
   ]
  },
  {
   "cell_type": "code",
   "execution_count": null,
   "metadata": {},
   "outputs": [],
   "source": [
    "# Set up the path to files with data\n",
    "mouse_data_file = 'Resources/Mouse_metadata.csv'\n",
    "study_result_data_file = 'Resources/Study_results.csv'"
   ]
  },
  {
   "cell_type": "code",
   "execution_count": null,
   "metadata": {},
   "outputs": [],
   "source": [
    "# Read mouse_metadata.csv file to DataFrame\n",
    "mouse_original_df = pd.read_csv(mouse_data_file)\n",
    "mouse_original_df.head()\n"
   ]
  },
  {
   "cell_type": "code",
   "execution_count": null,
   "metadata": {},
   "outputs": [],
   "source": [
    "# Read study_result.csv to DataFrame\n",
    "study_res_original_df = pd.read_csv(study_result_data_file)\n",
    "study_res_original_df.head()"
   ]
  },
  {
   "cell_type": "code",
   "execution_count": null,
   "metadata": {},
   "outputs": [],
   "source": [
    "# Merge both df together. Inner join because we need anly mouse that included in study_result file\n",
    "summary_df = study_res_original_df.merge(mouse_original_df, on='Mouse ID', how='inner')\n",
    "summary_df"
   ]
  },
  {
   "cell_type": "code",
   "execution_count": null,
   "metadata": {},
   "outputs": [],
   "source": [
    "# Find duplicated mouses \n",
    "duplicated_row_df = summary_df[summary_df.duplicated(['Mouse ID', 'Timepoint'])]\n",
    "duplicated_row_df"
   ]
  },
  {
   "cell_type": "code",
   "execution_count": null,
   "metadata": {},
   "outputs": [],
   "source": [
    "# Get mouse id from duplicated df\n",
    "mouse_id = duplicated_row_df['Mouse ID'].unique()\n",
    "mouse_id = mouse_id[0]\n",
    "\n",
    "# delete all rows with given mouse id\n",
    "summary_df.drop(summary_df[summary_df['Mouse ID'] == mouse_id].index, inplace=True)\n",
    "len(summary_df['Mouse ID'].unique())"
   ]
  },
  {
   "cell_type": "markdown",
   "metadata": {},
   "source": [
    "#### Summary Statistics\n",
    "\n",
    "Generate a summary statistics table consisting of the mean, median, variance, standard deviation, and SEM of the tumor volume for each drug regimen."
   ]
  },
  {
   "cell_type": "code",
   "execution_count": null,
   "metadata": {},
   "outputs": [],
   "source": [
    "# groupby by drug regime\n",
    "regime = summary_df.groupby('Drug Regimen')\n",
    "\n",
    "# generate mean \n",
    "mean_tumor_volume = regime['Tumor Volume (mm3)'].mean()\n",
    "\n",
    "# generate median\n",
    "median_tumor_volume = regime['Tumor Volume (mm3)'].median()\n",
    "\n",
    "drugs = summary_df['Drug Regimen'].unique()\n",
    "drugs\n",
    "\n",
    "# variable to store variance, standart deviation and sem for each drug\n",
    "variance = []\n",
    "st_dv = []\n",
    "std_err = []\n",
    "\n",
    "for drug in drugs:\n",
    "    certain_drug = summary_df[summary_df['Drug Regimen'] == drug]\n",
    "    #tumor_volume = certain_drug[]\n",
    "    variance.append(scs.tvar(certain_drug['Tumor Volume (mm3)']))\n",
    "    st_dv.append(scs.tstd(certain_drug['Tumor Volume (mm3)']))\n",
    "    std_err.append(scs.sem(certain_drug['Tumor Volume (mm3)']))\n",
    "\n",
    "    \n",
    "# Create a summary df\n",
    "base_statistics_df = pd.DataFrame({\"Mean Tumor Volume\": mean_tumor_volume\n",
    "                                  , \"Median Tumor Volume\": median_tumor_volume\n",
    "                                  , \"Tumor Volume Variance\": variance\n",
    "                                  , 'Tumor Volum Std. Dev.': st_dv\n",
    "                                  , \"Tumor Volum Std. Err\": std_err})\n",
    "base_statistics_df"
   ]
  },
  {
   "cell_type": "code",
   "execution_count": null,
   "metadata": {},
   "outputs": [],
   "source": [
    "# Bar chart via pandas.plot\n",
    "mouse_per_drugs = []\n",
    "\n",
    "for drug in drugs:\n",
    "    mouse_per_drugs.append(summary_df[summary_df['Drug Regimen'] == drug]['Mouse ID'].count())\n",
    "\n",
    "    \n",
    "mouse_per_drugs\n",
    "\n",
    "mouse_vs_drugs_df = pd.DataFrame({'Drugs': drugs, 'Mouse per Drug': mouse_per_drugs}, index=drugs)\n",
    "mouse_vs_drugs_df= mouse_vs_drugs_df.sort_values(by='Mouse per Drug', ascending=False)\n",
    "bar_plot = mouse_vs_drugs_df.plot.bar()\n",
    "bar_plot.set(xlabel='Drug Regimen', ylabel='Number of Unique Mice Tested', title='Mice vs Drug regimen')\n",
    "plt.show()"
   ]
  },
  {
   "cell_type": "code",
   "execution_count": null,
   "metadata": {},
   "outputs": [],
   "source": [
    "# Matplotlib Bar Chart \n",
    "\n",
    "#plt.bar(drugs, mouse_per_drugs)\n",
    "plt.bar(mouse_vs_drugs_df['Drugs'], mouse_vs_drugs_df['Mouse per Drug'])\n",
    "plt.xticks(rotation=90, horizontalalignment=\"center\")\n",
    "plt.xlabel('Drug Regimen')\n",
    "plt.ylabel('Number of Unique Mice Tested')\n",
    "plt.title('Mice vs Drug regimen')\n",
    "plt.show()"
   ]
  },
  {
   "cell_type": "code",
   "execution_count": null,
   "metadata": {},
   "outputs": [],
   "source": [
    "# Pandas Pie plot mouse gender\n",
    "pie_plot = summary_df['Sex'].value_counts().plot.pie(y=\"Sex\", autopct='%1.1f%%', startangle=0)\n",
    "plt.show()"
   ]
  },
  {
   "cell_type": "code",
   "execution_count": null,
   "metadata": {},
   "outputs": [],
   "source": [
    "sex = summary_df['Sex'].value_counts()\n",
    "pie_labels = ['Male', 'Female']\n",
    "plt.pie(sex, labels=['Male', 'Female'], autopct=\"%1.1f%%\")\n",
    "plt.title(\"Chart of Mouse Gender\")\n",
    "#plt.xlabel = 'Sex'\n",
    "plt.show()"
   ]
  },
  {
   "cell_type": "markdown",
   "metadata": {},
   "source": [
    "#### Quartiles, Outliers and Boxplots\n",
    "\n",
    "Calculate the final tumor volume of each mouse across four of the most promising treatment regimens: Capomulin, Ramicane, Infubinol, and Ceftamin. Calculate the quartiles and IQR and quantitatively determine if there are any potential outliers across all four treatment regimens."
   ]
  },
  {
   "cell_type": "code",
   "execution_count": null,
   "metadata": {},
   "outputs": [],
   "source": [
    "# Create a df to calculate final tumor volume\n",
    "final_tumor_volume_df = summary_df[['Mouse ID', 'Timepoint', 'Tumor Volume (mm3)', 'Drug Regimen']]\n",
    "final_tumor_volume_df.head()"
   ]
  },
  {
   "cell_type": "code",
   "execution_count": null,
   "metadata": {},
   "outputs": [],
   "source": [
    "# leave only data for 4 drug regimen: 'Capomulin', 'Ramicane', 'Infubinol', 'Ceftamin'\n",
    "treatment_regimen = ['Capomulin', 'Ramicane', 'Infubinol', 'Ceftamin']\n",
    "\n",
    "final_tumor_volume_df = final_tumor_volume_df.sort_values(['Mouse ID', 'Timepoint'])\n",
    "final_tumor_volume_df = final_tumor_volume_df[final_tumor_volume_df['Drug Regimen'].isin(treatment_regimen)]\n",
    "final_tumor_volume_df.head(20)"
   ]
  },
  {
   "cell_type": "code",
   "execution_count": null,
   "metadata": {},
   "outputs": [],
   "source": [
    "## Group data by 'Mouse ID' to find max volume of tumor for the last timepoint\n",
    "\n",
    "max_timepoint_df = final_tumor_volume_df.groupby('Mouse ID')['Timepoint'].max()\n",
    "max_timepoint_df.reset_index()\n",
    "\n",
    "max_tumor_volume_df = final_tumor_volume_df.merge(max_timepoint_df, on=['Mouse ID', 'Timepoint'])\n",
    "max_tumor_volume_df"
   ]
  },
  {
   "cell_type": "code",
   "execution_count": null,
   "metadata": {},
   "outputs": [],
   "source": [
    "# find IQR for each treatment\n",
    "\n",
    "\n",
    "for drug in treatment_regimen:\n",
    "    \n",
    "    tumor_volume_by_drug = max_tumor_volume_df[max_tumor_volume_df['Drug Regimen'] == drug]    \n",
    "    tumor_volume_by_drug = tumor_volume_by_drug['Tumor Volume (mm3)']\n",
    "    \n",
    "    quartiles = tumor_volume_by_drug.quantile([.25, .5, .75])\n",
    "    q1 = quartiles[0.25]\n",
    "    q3 = quartiles[0.75]\n",
    "    \n",
    "    iqr = q3 - q1\n",
    "    iqr_1_5 = iqr * 1.5\n",
    "    \n",
    "    \n",
    "    q1_bound = q1 - iqr_1_5\n",
    "    q3_bound = q3 + iqr_1_5\n",
    "    outliers = [q1_bound, q3_bound]\n",
    "    \n",
    "    potential_outliers = []\n",
    "    for value in tumor_volume_by_drug:\n",
    "        if value < q1_bound or value > q3_bound:\n",
    "            potential_outliers.append(value)\n",
    "    \n",
    "    #print(potential_outliers)\n",
    "    print(f\"{drug}'s potential outliers: {potential_outliers}\")\n",
    " \n",
    "    "
   ]
  },
  {
   "cell_type": "code",
   "execution_count": null,
   "metadata": {},
   "outputs": [],
   "source": [
    "flierprops = dict(marker='o', markerfacecolor='red')\n",
    "max_tumor_volume_df.boxplot(column=['Tumor Volume (mm3)'], by='Drug Regimen', flierprops=flierprops)\n",
    "plt.title('')\n",
    "plt.ylabel('Tumor Volume (mm3)')\n",
    "plt.show()"
   ]
  },
  {
   "cell_type": "code",
   "execution_count": null,
   "metadata": {},
   "outputs": [],
   "source": [
    "#Select a mouse that was treated with Capomulin and generate a line plot of tumor volume vs. time point for that mouse.\n",
    "\n",
    "treated_mouses = summary_df[['Mouse ID', 'Drug Regimen', 'Timepoint', 'Tumor Volume (mm3)']]\n",
    "treated_mouses = treated_mouses[treated_mouses['Drug Regimen'] == 'Capomulin']\n",
    "#treated_mouse = treated_mouse.groupby('Mouse ID')[['Timepoint']]\n",
    "treated_mice = treated_mouses[treated_mouses['Mouse ID'] == 'l509']\n",
    "treated_mice\n"
   ]
  },
  {
   "cell_type": "code",
   "execution_count": null,
   "metadata": {},
   "outputs": [],
   "source": [
    "plt.plot(treated_mice['Timepoint'], treated_mice['Tumor Volume (mm3)'])\n",
    "plt.title('Capomulin treatment of mice l509')\n",
    "plt.xlabel('Timepoint')\n",
    "plt.ylabel('Tumor Volum (mm3)')"
   ]
  },
  {
   "cell_type": "code",
   "execution_count": null,
   "metadata": {},
   "outputs": [],
   "source": [
    "#Generate a scatter plot of mouse weight versus average tumor volume for the Capomulin treatment regimen.\n",
    "\n",
    "mouse_weight = summary_df[['Mouse ID', 'Weight (g)']]\n",
    "treated_mouses = treated_mouses.merge(mouse_weight, on='Mouse ID')\n",
    "\n",
    "avg_tumor_volume = treated_mouses.groupby('Mouse ID')['Tumor Volume (mm3)'].mean()\n",
    "treated_mouses['Weight (g)']\n",
    "weight = treated_mouses.groupby('Mouse ID')['Weight (g)'].mean()\n",
    "\n",
    "plt.scatter(weight, avg_tumor_volume)\n",
    "plt.title('Mouse Weight vs Tumor Volume')\n",
    "plt.xlabel('Weight (g)')\n",
    "plt.ylabel('Avg Tumor Volume (mm3)')\n",
    "plt.show()\n",
    "\n"
   ]
  },
  {
   "cell_type": "code",
   "execution_count": null,
   "metadata": {},
   "outputs": [],
   "source": [
    "# Calculate the correlation coefficient and linear regression model between \n",
    "# mouse weight and average tumor volume for the Capomulin treatment. \n",
    "#Plot the linear regression model on top of the previous scatter plot.\n",
    "\n",
    "# correlation coefficient\n",
    "\n",
    "correlation = scs.pearsonr(weight,avg_tumor_volume)\n",
    "print(f'The correlation between mouse weight and the average tumor volume is {correlation[0]}')\n"
   ]
  },
  {
   "cell_type": "code",
   "execution_count": null,
   "metadata": {},
   "outputs": [],
   "source": [
    "# Linear Regression\n",
    "mt_slope, mt_int, mt_r, mt_p, mt_std_err = scs.linregress(weight,avg_tumor_volume)\n",
    "mt_fit = mt_slope * weight + mt_int\n",
    "\n",
    "plt.scatter(weight,avg_tumor_volume)\n",
    "plt.plot(weight,mt_fit,\"-\", color='red')\n",
    "plt.title('Linear Regression: Mouse Weight vs Tumor Volume')\n",
    "plt.xlabel('Weight (g)')\n",
    "plt.ylabel('Avg Tumor Volume (mm3)')\n",
    "plt.show()\n",
    "plt.show()"
   ]
  },
  {
   "cell_type": "code",
   "execution_count": null,
   "metadata": {},
   "outputs": [],
   "source": []
  }
 ],
 "metadata": {
  "kernelspec": {
   "display_name": "Python 3",
   "language": "python",
   "name": "python3"
  },
  "language_info": {
   "codemirror_mode": {
    "name": "ipython",
    "version": 3
   },
   "file_extension": ".py",
   "mimetype": "text/x-python",
   "name": "python",
   "nbconvert_exporter": "python",
   "pygments_lexer": "ipython3",
   "version": "3.8.3"
  }
 },
 "nbformat": 4,
 "nbformat_minor": 4
}
